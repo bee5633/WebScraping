{
 "cells": [
  {
   "cell_type": "markdown",
   "metadata": {},
   "source": [
    "<h1> IMPORT DATASET AND PACKAGES </h1>"
   ]
  },
  {
   "cell_type": "code",
   "execution_count": 1,
   "metadata": {},
   "outputs": [
    {
     "data": {
      "text/html": [
       "        <script type=\"text/javascript\">\n",
       "        window.PlotlyConfig = {MathJaxConfig: 'local'};\n",
       "        if (window.MathJax) {MathJax.Hub.Config({SVG: {font: \"STIX-Web\"}});}\n",
       "        if (typeof require !== 'undefined') {\n",
       "        require.undef(\"plotly\");\n",
       "        requirejs.config({\n",
       "            paths: {\n",
       "                'plotly': ['https://cdn.plot.ly/plotly-latest.min']\n",
       "            }\n",
       "        });\n",
       "        require(['plotly'], function(Plotly) {\n",
       "            window._Plotly = Plotly;\n",
       "        });\n",
       "        }\n",
       "        </script>\n",
       "        "
      ]
     },
     "metadata": {},
     "output_type": "display_data"
    }
   ],
   "source": [
    "import pandas as pd\n",
    "import numpy as np\n",
    "import re\n",
    "from matplotlib import pyplot as plt\n",
    "plt.style.use('ggplot')\n",
    "from plotly.graph_objs import Scatter\n",
    "import plotly\n",
    "# connected=True means it will download the latest version of plotly javascript library.\n",
    "plotly.offline.init_notebook_mode(connected=True)\n",
    "from plotly.graph_objs import Figure, Histogram, Layout\n",
    "import plotly.graph_objects as go\n",
    "import plotly.express as px\n",
    "from wordcloud import WordCloud, STOPWORDS"
   ]
  },
  {
   "cell_type": "code",
   "execution_count": 2,
   "metadata": {},
   "outputs": [],
   "source": [
    "data = pd.read_csv(\"wineFinal.csv\")"
   ]
  },
  {
   "cell_type": "code",
   "execution_count": 3,
   "metadata": {},
   "outputs": [
    {
     "data": {
      "text/html": [
       "<div>\n",
       "<style scoped>\n",
       "    .dataframe tbody tr th:only-of-type {\n",
       "        vertical-align: middle;\n",
       "    }\n",
       "\n",
       "    .dataframe tbody tr th {\n",
       "        vertical-align: top;\n",
       "    }\n",
       "\n",
       "    .dataframe thead th {\n",
       "        text-align: right;\n",
       "    }\n",
       "</style>\n",
       "<table border=\"1\" class=\"dataframe\">\n",
       "  <thead>\n",
       "    <tr style=\"text-align: right;\">\n",
       "      <th></th>\n",
       "      <th>Unnamed: 0</th>\n",
       "      <th>wine_alcohol</th>\n",
       "      <th>wine_category</th>\n",
       "      <th>wine_description</th>\n",
       "      <th>wine_name</th>\n",
       "      <th>wine_origin</th>\n",
       "      <th>wine_point</th>\n",
       "      <th>wine_price</th>\n",
       "      <th>wine_variety</th>\n",
       "    </tr>\n",
       "  </thead>\n",
       "  <tbody>\n",
       "    <tr>\n",
       "      <th>0</th>\n",
       "      <td>0</td>\n",
       "      <td>12.5</td>\n",
       "      <td>Red</td>\n",
       "      <td>This is a delicious, young and vibrant wine, w...</td>\n",
       "      <td>Camille Giroud 2016 La Comme Premier Cru  (San...</td>\n",
       "      <td>France</td>\n",
       "      <td>92</td>\n",
       "      <td>55</td>\n",
       "      <td>Pinot Noir</td>\n",
       "    </tr>\n",
       "    <tr>\n",
       "      <th>1</th>\n",
       "      <td>1</td>\n",
       "      <td>13.5</td>\n",
       "      <td>White</td>\n",
       "      <td>A blend of Viognier, Marsanne and Roussanne, a...</td>\n",
       "      <td>Troon 2018 Côtes du Kubl White (Applegate Valley)</td>\n",
       "      <td>US</td>\n",
       "      <td>92</td>\n",
       "      <td>35</td>\n",
       "      <td>Rhône-style White Blend</td>\n",
       "    </tr>\n",
       "    <tr>\n",
       "      <th>2</th>\n",
       "      <td>2</td>\n",
       "      <td>13.5</td>\n",
       "      <td>Red</td>\n",
       "      <td>This is a stylish wine, showing the rich struc...</td>\n",
       "      <td>Château La Clare 2016  Médoc</td>\n",
       "      <td>France</td>\n",
       "      <td>92</td>\n",
       "      <td>29</td>\n",
       "      <td>Bordeaux-style Red Blend</td>\n",
       "    </tr>\n",
       "    <tr>\n",
       "      <th>3</th>\n",
       "      <td>3</td>\n",
       "      <td>14.0</td>\n",
       "      <td>Red</td>\n",
       "      <td>Aromas of rose petal, leather and strawberry e...</td>\n",
       "      <td>Bovio 2015  Barolo</td>\n",
       "      <td>Italy</td>\n",
       "      <td>92</td>\n",
       "      <td>50</td>\n",
       "      <td>Nebbiolo</td>\n",
       "    </tr>\n",
       "    <tr>\n",
       "      <th>4</th>\n",
       "      <td>4</td>\n",
       "      <td>14.5</td>\n",
       "      <td>Red</td>\n",
       "      <td>Roses, red berries and wild herbs mingle with ...</td>\n",
       "      <td>Enzo Boglietti 2015 Case Nere  (Barolo)</td>\n",
       "      <td>Italy</td>\n",
       "      <td>92</td>\n",
       "      <td>85</td>\n",
       "      <td>Nebbiolo</td>\n",
       "    </tr>\n",
       "  </tbody>\n",
       "</table>\n",
       "</div>"
      ],
      "text/plain": [
       "   Unnamed: 0  wine_alcohol wine_category  \\\n",
       "0           0          12.5           Red   \n",
       "1           1          13.5         White   \n",
       "2           2          13.5           Red   \n",
       "3           3          14.0           Red   \n",
       "4           4          14.5           Red   \n",
       "\n",
       "                                    wine_description  \\\n",
       "0  This is a delicious, young and vibrant wine, w...   \n",
       "1  A blend of Viognier, Marsanne and Roussanne, a...   \n",
       "2  This is a stylish wine, showing the rich struc...   \n",
       "3  Aromas of rose petal, leather and strawberry e...   \n",
       "4  Roses, red berries and wild herbs mingle with ...   \n",
       "\n",
       "                                           wine_name wine_origin  wine_point  \\\n",
       "0  Camille Giroud 2016 La Comme Premier Cru  (San...      France          92   \n",
       "1  Troon 2018 Côtes du Kubl White (Applegate Valley)          US          92   \n",
       "2                       Château La Clare 2016  Médoc      France          92   \n",
       "3                                 Bovio 2015  Barolo       Italy          92   \n",
       "4            Enzo Boglietti 2015 Case Nere  (Barolo)       Italy          92   \n",
       "\n",
       "   wine_price              wine_variety  \n",
       "0          55                Pinot Noir  \n",
       "1          35   Rhône-style White Blend  \n",
       "2          29  Bordeaux-style Red Blend  \n",
       "3          50                  Nebbiolo  \n",
       "4          85                  Nebbiolo  "
      ]
     },
     "execution_count": 3,
     "metadata": {},
     "output_type": "execute_result"
    }
   ],
   "source": [
    "# Read csv file\n",
    "dataOriginal = pd.read_csv(\"wineFinal.csv\") \n",
    "# Check first few \n",
    "dataOriginal.head()\n",
    "\n"
   ]
  },
  {
   "cell_type": "markdown",
   "metadata": {},
   "source": [
    "<h1> DATA CLEANING </h1>"
   ]
  },
  {
   "cell_type": "code",
   "execution_count": 4,
   "metadata": {
    "scrolled": true
   },
   "outputs": [
    {
     "data": {
      "text/plain": [
       "RangeIndex(start=0, stop=23434, step=1)"
      ]
     },
     "execution_count": 4,
     "metadata": {},
     "output_type": "execute_result"
    }
   ],
   "source": [
    "# What is the index.\n",
    "dataOriginal.index"
   ]
  },
  {
   "cell_type": "code",
   "execution_count": 5,
   "metadata": {},
   "outputs": [
    {
     "data": {
      "text/plain": [
       "Unnamed: 0            int64\n",
       "wine_alcohol        float64\n",
       "wine_category        object\n",
       "wine_description     object\n",
       "wine_name            object\n",
       "wine_origin          object\n",
       "wine_point            int64\n",
       "wine_price            int64\n",
       "wine_variety         object\n",
       "dtype: object"
      ]
     },
     "execution_count": 5,
     "metadata": {},
     "output_type": "execute_result"
    }
   ],
   "source": [
    "# Types of column\n",
    "dataOriginal.dtypes"
   ]
  },
  {
   "cell_type": "code",
   "execution_count": 6,
   "metadata": {},
   "outputs": [
    {
     "data": {
      "text/plain": [
       "Unnamed: 0          False\n",
       "wine_alcohol        False\n",
       "wine_category       False\n",
       "wine_description    False\n",
       "wine_name           False\n",
       "wine_origin         False\n",
       "wine_point          False\n",
       "wine_price          False\n",
       "wine_variety        False\n",
       "dtype: bool"
      ]
     },
     "execution_count": 6,
     "metadata": {},
     "output_type": "execute_result"
    }
   ],
   "source": [
    "# To check any column that has missing or NA value. \n",
    "dataOriginal.isna().any()"
   ]
  },
  {
   "cell_type": "code",
   "execution_count": 7,
   "metadata": {},
   "outputs": [
    {
     "data": {
      "text/plain": [
       "Unnamed: 0          False\n",
       "wine_alcohol        False\n",
       "wine_category       False\n",
       "wine_description    False\n",
       "wine_name           False\n",
       "wine_origin         False\n",
       "wine_point          False\n",
       "wine_price          False\n",
       "wine_variety        False\n",
       "dtype: bool"
      ]
     },
     "execution_count": 7,
     "metadata": {},
     "output_type": "execute_result"
    }
   ],
   "source": [
    "# To drop missing values\n",
    "dataOriginal = dataOriginal.dropna(axis=0, how='any')\n",
    "# To check if missing values were taken away.\n",
    "dataOriginal.isna().any()"
   ]
  },
  {
   "cell_type": "code",
   "execution_count": 8,
   "metadata": {
    "scrolled": true
   },
   "outputs": [
    {
     "data": {
      "text/plain": [
       "(23434, 9)"
      ]
     },
     "execution_count": 8,
     "metadata": {},
     "output_type": "execute_result"
    }
   ],
   "source": [
    "dataOriginal.shape"
   ]
  },
  {
   "cell_type": "code",
   "execution_count": 9,
   "metadata": {},
   "outputs": [
    {
     "ename": "AttributeError",
     "evalue": "Can only use .str accessor with string values, which use np.object_ dtype in pandas",
     "output_type": "error",
     "traceback": [
      "\u001b[0;31m---------------------------------------------------------------------------\u001b[0m",
      "\u001b[0;31mAttributeError\u001b[0m                            Traceback (most recent call last)",
      "\u001b[0;32m<ipython-input-9-fe4dbd08039e>\u001b[0m in \u001b[0;36m<module>\u001b[0;34m\u001b[0m\n\u001b[1;32m      1\u001b[0m \u001b[0;31m# Let's get only number value from wine_alcohol (take away %)\u001b[0m\u001b[0;34m\u001b[0m\u001b[0;34m\u001b[0m\u001b[0;34m\u001b[0m\u001b[0m\n\u001b[0;32m----> 2\u001b[0;31m \u001b[0mdataOriginal\u001b[0m\u001b[0;34m[\u001b[0m\u001b[0;34m'wine_alcohol'\u001b[0m\u001b[0;34m]\u001b[0m \u001b[0;34m=\u001b[0m \u001b[0mdataOriginal\u001b[0m\u001b[0;34m.\u001b[0m\u001b[0mwine_alcohol\u001b[0m\u001b[0;34m.\u001b[0m\u001b[0mstr\u001b[0m\u001b[0;34m.\u001b[0m\u001b[0mextract\u001b[0m\u001b[0;34m(\u001b[0m\u001b[0;34m'(\\d+\\.?\\d*)'\u001b[0m\u001b[0;34m)\u001b[0m\u001b[0;34m.\u001b[0m\u001b[0mastype\u001b[0m\u001b[0;34m(\u001b[0m\u001b[0mfloat\u001b[0m\u001b[0;34m)\u001b[0m\u001b[0;34m\u001b[0m\u001b[0;34m\u001b[0m\u001b[0m\n\u001b[0m\u001b[1;32m      3\u001b[0m \u001b[0mdataOriginal\u001b[0m\u001b[0;34m\u001b[0m\u001b[0;34m\u001b[0m\u001b[0m\n",
      "\u001b[0;32m~/anaconda3/lib/python3.7/site-packages/pandas/core/generic.py\u001b[0m in \u001b[0;36m__getattr__\u001b[0;34m(self, name)\u001b[0m\n\u001b[1;32m   5061\u001b[0m         if (name in self._internal_names_set or name in self._metadata or\n\u001b[1;32m   5062\u001b[0m                 name in self._accessors):\n\u001b[0;32m-> 5063\u001b[0;31m             \u001b[0;32mreturn\u001b[0m \u001b[0mobject\u001b[0m\u001b[0;34m.\u001b[0m\u001b[0m__getattribute__\u001b[0m\u001b[0;34m(\u001b[0m\u001b[0mself\u001b[0m\u001b[0;34m,\u001b[0m \u001b[0mname\u001b[0m\u001b[0;34m)\u001b[0m\u001b[0;34m\u001b[0m\u001b[0;34m\u001b[0m\u001b[0m\n\u001b[0m\u001b[1;32m   5064\u001b[0m         \u001b[0;32melse\u001b[0m\u001b[0;34m:\u001b[0m\u001b[0;34m\u001b[0m\u001b[0;34m\u001b[0m\u001b[0m\n\u001b[1;32m   5065\u001b[0m             \u001b[0;32mif\u001b[0m \u001b[0mself\u001b[0m\u001b[0;34m.\u001b[0m\u001b[0m_info_axis\u001b[0m\u001b[0;34m.\u001b[0m\u001b[0m_can_hold_identifiers_and_holds_name\u001b[0m\u001b[0;34m(\u001b[0m\u001b[0mname\u001b[0m\u001b[0;34m)\u001b[0m\u001b[0;34m:\u001b[0m\u001b[0;34m\u001b[0m\u001b[0;34m\u001b[0m\u001b[0m\n",
      "\u001b[0;32m~/anaconda3/lib/python3.7/site-packages/pandas/core/accessor.py\u001b[0m in \u001b[0;36m__get__\u001b[0;34m(self, obj, cls)\u001b[0m\n\u001b[1;32m    169\u001b[0m             \u001b[0;31m# we're accessing the attribute of the class, i.e., Dataset.geo\u001b[0m\u001b[0;34m\u001b[0m\u001b[0;34m\u001b[0m\u001b[0;34m\u001b[0m\u001b[0m\n\u001b[1;32m    170\u001b[0m             \u001b[0;32mreturn\u001b[0m \u001b[0mself\u001b[0m\u001b[0;34m.\u001b[0m\u001b[0m_accessor\u001b[0m\u001b[0;34m\u001b[0m\u001b[0;34m\u001b[0m\u001b[0m\n\u001b[0;32m--> 171\u001b[0;31m         \u001b[0maccessor_obj\u001b[0m \u001b[0;34m=\u001b[0m \u001b[0mself\u001b[0m\u001b[0;34m.\u001b[0m\u001b[0m_accessor\u001b[0m\u001b[0;34m(\u001b[0m\u001b[0mobj\u001b[0m\u001b[0;34m)\u001b[0m\u001b[0;34m\u001b[0m\u001b[0;34m\u001b[0m\u001b[0m\n\u001b[0m\u001b[1;32m    172\u001b[0m         \u001b[0;31m# Replace the property with the accessor object. Inspired by:\u001b[0m\u001b[0;34m\u001b[0m\u001b[0;34m\u001b[0m\u001b[0;34m\u001b[0m\u001b[0m\n\u001b[1;32m    173\u001b[0m         \u001b[0;31m# http://www.pydanny.com/cached-property.html\u001b[0m\u001b[0;34m\u001b[0m\u001b[0;34m\u001b[0m\u001b[0;34m\u001b[0m\u001b[0m\n",
      "\u001b[0;32m~/anaconda3/lib/python3.7/site-packages/pandas/core/strings.py\u001b[0m in \u001b[0;36m__init__\u001b[0;34m(self, data)\u001b[0m\n\u001b[1;32m   1794\u001b[0m \u001b[0;34m\u001b[0m\u001b[0m\n\u001b[1;32m   1795\u001b[0m     \u001b[0;32mdef\u001b[0m \u001b[0m__init__\u001b[0m\u001b[0;34m(\u001b[0m\u001b[0mself\u001b[0m\u001b[0;34m,\u001b[0m \u001b[0mdata\u001b[0m\u001b[0;34m)\u001b[0m\u001b[0;34m:\u001b[0m\u001b[0;34m\u001b[0m\u001b[0;34m\u001b[0m\u001b[0m\n\u001b[0;32m-> 1796\u001b[0;31m         \u001b[0mself\u001b[0m\u001b[0;34m.\u001b[0m\u001b[0m_validate\u001b[0m\u001b[0;34m(\u001b[0m\u001b[0mdata\u001b[0m\u001b[0;34m)\u001b[0m\u001b[0;34m\u001b[0m\u001b[0;34m\u001b[0m\u001b[0m\n\u001b[0m\u001b[1;32m   1797\u001b[0m         \u001b[0mself\u001b[0m\u001b[0;34m.\u001b[0m\u001b[0m_is_categorical\u001b[0m \u001b[0;34m=\u001b[0m \u001b[0mis_categorical_dtype\u001b[0m\u001b[0;34m(\u001b[0m\u001b[0mdata\u001b[0m\u001b[0;34m)\u001b[0m\u001b[0;34m\u001b[0m\u001b[0;34m\u001b[0m\u001b[0m\n\u001b[1;32m   1798\u001b[0m \u001b[0;34m\u001b[0m\u001b[0m\n",
      "\u001b[0;32m~/anaconda3/lib/python3.7/site-packages/pandas/core/strings.py\u001b[0m in \u001b[0;36m_validate\u001b[0;34m(data)\u001b[0m\n\u001b[1;32m   1816\u001b[0m             \u001b[0;31m# (instead of test for object dtype), but that isn't practical for\u001b[0m\u001b[0;34m\u001b[0m\u001b[0;34m\u001b[0m\u001b[0;34m\u001b[0m\u001b[0m\n\u001b[1;32m   1817\u001b[0m             \u001b[0;31m# performance reasons until we have a str dtype (GH 9343)\u001b[0m\u001b[0;34m\u001b[0m\u001b[0;34m\u001b[0m\u001b[0;34m\u001b[0m\u001b[0m\n\u001b[0;32m-> 1818\u001b[0;31m             raise AttributeError(\"Can only use .str accessor with string \"\n\u001b[0m\u001b[1;32m   1819\u001b[0m                                  \u001b[0;34m\"values, which use np.object_ dtype in \"\u001b[0m\u001b[0;34m\u001b[0m\u001b[0;34m\u001b[0m\u001b[0m\n\u001b[1;32m   1820\u001b[0m                                  \"pandas\")\n",
      "\u001b[0;31mAttributeError\u001b[0m: Can only use .str accessor with string values, which use np.object_ dtype in pandas"
     ]
    }
   ],
   "source": [
    "# Let's get only number value from wine_alcohol (take away %)\n",
    "dataOriginal['wine_alcohol'] = dataOriginal.wine_alcohol.str.extract('(\\d+\\.?\\d*)').astype(float)\n",
    "dataOriginal"
   ]
  },
  {
   "cell_type": "code",
   "execution_count": null,
   "metadata": {},
   "outputs": [],
   "source": [
    "sum(dataOriginal.wine_alcohol > 100)"
   ]
  },
  {
   "cell_type": "code",
   "execution_count": null,
   "metadata": {
    "scrolled": false
   },
   "outputs": [],
   "source": [
    "# wine alcohol can't be over 100 so get rid of those that have over 100%\n",
    "dataOriginal = dataOriginal[dataOriginal.wine_alcohol < 100]\n",
    "dataOriginal"
   ]
  },
  {
   "cell_type": "code",
   "execution_count": null,
   "metadata": {
    "scrolled": false
   },
   "outputs": [],
   "source": [
    "# Also too many countries. I want to focus only those that have significant amounts, in this case putting as 200. \n",
    "group_origin = dataOriginal.groupby('wine_origin')\n",
    "grorsize = group_origin.size()\n",
    "grorsize[grorsize>200]"
   ]
  },
  {
   "cell_type": "code",
   "execution_count": null,
   "metadata": {
    "scrolled": true
   },
   "outputs": [],
   "source": [
    "#data to only those Countries with at least 200 records\n",
    "data = dataOriginal.loc[dataOriginal['wine_origin'].isin(['Argentina','Australia','Austria','Chile','France','Germany','Italy','New Zealand','Portugal','Spain','US'])]\n",
    "data"
   ]
  },
  {
   "cell_type": "code",
   "execution_count": null,
   "metadata": {},
   "outputs": [],
   "source": [
    "#to write as a csv\n",
    "data.to_csv('wineFinal.csv')"
   ]
  },
  {
   "cell_type": "markdown",
   "metadata": {},
   "source": [
    "<h1> BASIC INFORMATION ON THIS DATA </h1>"
   ]
  },
  {
   "cell_type": "code",
   "execution_count": null,
   "metadata": {},
   "outputs": [],
   "source": [
    "data['wine_price'].mean()"
   ]
  },
  {
   "cell_type": "code",
   "execution_count": null,
   "metadata": {
    "scrolled": true
   },
   "outputs": [],
   "source": [
    "data['wine_point'].mean()"
   ]
  },
  {
   "cell_type": "code",
   "execution_count": null,
   "metadata": {},
   "outputs": [],
   "source": [
    "data['wine_alcohol'].mean()"
   ]
  },
  {
   "cell_type": "code",
   "execution_count": null,
   "metadata": {
    "scrolled": true
   },
   "outputs": [],
   "source": [
    "# What is under wine_category\n",
    "count_wine_category = pd.value_counts(data['wine_category'].values, sort=True)\n",
    "print(count_wine_category)\n",
    "\n",
    "# bar graph for wine_category\n",
    "count_wine_category.plot.bar(figsize = (20,10))\n"
   ]
  },
  {
   "cell_type": "code",
   "execution_count": null,
   "metadata": {},
   "outputs": [],
   "source": [
    "# Group by category\n",
    "group_category = data.groupby('wine_category')\n",
    "list(group_category)"
   ]
  },
  {
   "cell_type": "code",
   "execution_count": null,
   "metadata": {
    "scrolled": true
   },
   "outputs": [],
   "source": [
    "meanG_category = group_category.mean()\n",
    "print(meanG_category)\n",
    "medianG_category = group_category.median()\n",
    "print(medianG_category)"
   ]
  },
  {
   "cell_type": "code",
   "execution_count": null,
   "metadata": {},
   "outputs": [],
   "source": [
    "meanG_category['wine_point'].plot.bar(figsize = (20,10), ylim=(86,92))"
   ]
  },
  {
   "cell_type": "code",
   "execution_count": null,
   "metadata": {},
   "outputs": [],
   "source": [
    "medianG_category['wine_price'].plot.bar(figsize = (20,10), ylim=(5,45))"
   ]
  },
  {
   "cell_type": "code",
   "execution_count": null,
   "metadata": {},
   "outputs": [],
   "source": [
    "medianG_category['wine_alcohol'].plot.bar(figsize = (20,10), ylim = (8,22))"
   ]
  },
  {
   "cell_type": "code",
   "execution_count": null,
   "metadata": {
    "scrolled": true
   },
   "outputs": [],
   "source": [
    "# What is under wine_origin\n",
    "count_wine_origin = pd.value_counts(data['wine_origin'].values, sort=True)\n",
    "print(count_wine_origin)\n",
    "\n",
    "# bar graph for wine_origin\n",
    "count_wine_origin.plot.bar(figsize = (20,10))"
   ]
  },
  {
   "cell_type": "code",
   "execution_count": null,
   "metadata": {
    "scrolled": true
   },
   "outputs": [],
   "source": [
    "group_origin0 = data.groupby('wine_origin')\n",
    "\n",
    "meanG_origin = group_origin0.mean()\n",
    "print(meanG_origin)\n",
    "medianG_origin = group_origin0.median()\n",
    "print(medianG_origin)"
   ]
  },
  {
   "cell_type": "code",
   "execution_count": null,
   "metadata": {},
   "outputs": [],
   "source": [
    "medianG_origin['wine_alcohol'].plot.bar(ylim=(10,15), figsize = (20,10))"
   ]
  },
  {
   "cell_type": "code",
   "execution_count": null,
   "metadata": {
    "scrolled": true
   },
   "outputs": [],
   "source": [
    "meanG_origin['wine_point'].plot.bar(ylim = (85,92), figsize = (20,10))"
   ]
  },
  {
   "cell_type": "code",
   "execution_count": null,
   "metadata": {},
   "outputs": [],
   "source": [
    "medianG_origin['wine_price'].plot.bar(figsize=(20,10) ,ylim = (10,40))"
   ]
  },
  {
   "cell_type": "code",
   "execution_count": null,
   "metadata": {
    "scrolled": true
   },
   "outputs": [],
   "source": [
    "# Group by variety\n",
    "group_variety = data.groupby('wine_variety')\n",
    "list(group_variety)"
   ]
  },
  {
   "cell_type": "code",
   "execution_count": null,
   "metadata": {},
   "outputs": [],
   "source": [
    "# What is under wine_variety\n",
    "count_wine_variety = pd.value_counts(data['wine_variety'].values, sort=True)\n",
    "\n",
    "# Only top 10 of wine_variety\n",
    "top_wine_variety = count_wine_variety[:10]\n",
    "print(top_wine_variety)\n",
    "\n",
    "# bar graph for wine_variety\n",
    "top_wine_variety.plot.bar(figsize = (20,10))"
   ]
  },
  {
   "cell_type": "code",
   "execution_count": null,
   "metadata": {},
   "outputs": [],
   "source": [
    "Top10 = data.loc[data['wine_variety'].isin(['Nebbiolo','Pinor Noir','Chardonnay','Bordeaux-style Red Blend',\n",
    "                                    'Cabernet Sauvignon','Syrah','Red Blends',\n",
    "                                    'Riesling','Rosé','Sauvignon Blanc'])]\n",
    "Top10"
   ]
  },
  {
   "cell_type": "code",
   "execution_count": null,
   "metadata": {},
   "outputs": [],
   "source": [
    "Top10_group_variety = Top10.groupby('wine_variety')\n",
    "list(Top10_group_variety)"
   ]
  },
  {
   "cell_type": "code",
   "execution_count": null,
   "metadata": {
    "scrolled": true
   },
   "outputs": [],
   "source": [
    "meanGTop10_variety = Top10_group_variety.mean()\n",
    "print(meanGTop10_variety)\n",
    "medianGTop10_variety = Top10_group_variety.median()\n",
    "print(medianGTop10_variety)"
   ]
  },
  {
   "cell_type": "code",
   "execution_count": null,
   "metadata": {},
   "outputs": [],
   "source": [
    "medianGTop10_variety['wine_price'].plot.bar(figsize=(20,10))"
   ]
  },
  {
   "cell_type": "code",
   "execution_count": null,
   "metadata": {
    "scrolled": true
   },
   "outputs": [],
   "source": [
    "meanGTop10_variety['wine_point'].plot.bar(figsize=(20,10),ylim = (84,92))"
   ]
  },
  {
   "cell_type": "code",
   "execution_count": null,
   "metadata": {},
   "outputs": [],
   "source": [
    "medianGTop10_variety['wine_alcohol'].plot.bar(figsize=(20,10), ylim=(10,15))"
   ]
  },
  {
   "cell_type": "code",
   "execution_count": null,
   "metadata": {},
   "outputs": [],
   "source": [
    "alcohol100=data.sort_values('wine_alcohol', ascending=False)[:100]\n",
    "alcohol100"
   ]
  },
  {
   "cell_type": "code",
   "execution_count": null,
   "metadata": {
    "scrolled": true
   },
   "outputs": [],
   "source": [
    "pd.value_counts(alcohol100['wine_category'].values, sort=True)"
   ]
  },
  {
   "cell_type": "code",
   "execution_count": null,
   "metadata": {
    "scrolled": true
   },
   "outputs": [],
   "source": [
    "pd.value_counts(alcohol100['wine_origin'].values, sort=True)"
   ]
  },
  {
   "cell_type": "code",
   "execution_count": null,
   "metadata": {},
   "outputs": [],
   "source": [
    "alcohol100['wine_price'].mean()"
   ]
  },
  {
   "cell_type": "code",
   "execution_count": null,
   "metadata": {},
   "outputs": [],
   "source": [
    "# histogram for the wine alcohol \n",
    "AlcU30 = data.loc[data['wine_alcohol']<25]\n",
    "dataAlcohol = [Histogram(x=AlcU30['wine_alcohol'])]\n",
    "layout = Layout(title=\"{Alcohol Content of Wine}\",bargap=0.01)   \n",
    "fig = Figure(data=dataAlcohol, layout=layout)\n",
    "fig.update_xaxes(title_text='Alcohol Content (%)', nticks=20)\n",
    "fig.update_yaxes(title_text='Count')\n",
    "plotly.offline.iplot(fig, show_link=False, image_width=600, image_height=400)"
   ]
  },
  {
   "cell_type": "code",
   "execution_count": null,
   "metadata": {},
   "outputs": [],
   "source": [
    "point100 = data.sort_values('wine_point', ascending=False)[:100]\n",
    "point100"
   ]
  },
  {
   "cell_type": "code",
   "execution_count": null,
   "metadata": {
    "scrolled": true
   },
   "outputs": [],
   "source": [
    "pd.value_counts(point100['wine_category'].values, sort=True)"
   ]
  },
  {
   "cell_type": "code",
   "execution_count": null,
   "metadata": {
    "scrolled": true
   },
   "outputs": [],
   "source": [
    "pd.value_counts(point100['wine_origin'].values, sort=True)"
   ]
  },
  {
   "cell_type": "code",
   "execution_count": null,
   "metadata": {
    "scrolled": true
   },
   "outputs": [],
   "source": [
    "print(point100['wine_point'].mean())\n",
    "print(point100['wine_point'].max())\n",
    "print(point100['wine_point'].min())"
   ]
  },
  {
   "cell_type": "code",
   "execution_count": null,
   "metadata": {
    "scrolled": false
   },
   "outputs": [],
   "source": [
    "# histogram for the wine point\n",
    "dataPoint = [Histogram(x=data['wine_point'])]\n",
    "layout = Layout(title=\"{Distribution of Points of Wine Given by Wine Enthusiast Mag}\",bargap=0.01)   \n",
    "fig = Figure(data=dataPoint, layout=layout)\n",
    "fig.update_xaxes(title_text='Point')\n",
    "fig.update_yaxes(title_text='Count')\n",
    "\n",
    "plotly.offline.iplot(fig, show_link=False, image_width=600, image_height=400)"
   ]
  },
  {
   "cell_type": "code",
   "execution_count": null,
   "metadata": {
    "scrolled": true
   },
   "outputs": [],
   "source": [
    "#what are top 100 expensive wines and their prices. \n",
    "price100 = data.sort_values('wine_price', ascending=False)[:100]\n",
    "price100"
   ]
  },
  {
   "cell_type": "code",
   "execution_count": null,
   "metadata": {
    "scrolled": true
   },
   "outputs": [],
   "source": [
    "pd.value_counts(price100['wine_category'].values, sort=True)"
   ]
  },
  {
   "cell_type": "code",
   "execution_count": null,
   "metadata": {},
   "outputs": [],
   "source": [
    "pd.value_counts(price100['wine_origin'].values, sort=True)"
   ]
  },
  {
   "cell_type": "code",
   "execution_count": null,
   "metadata": {},
   "outputs": [],
   "source": [
    "# Plotting the wine price to see its distribution. \n",
    "\n",
    "dataPrice = [Histogram(x=data['wine_price'])]\n",
    "layout = Layout(title=\"{Price of Wine}\",bargap=0.01, )   \n",
    "fig = Figure(data=dataPrice, layout=layout)\n",
    "fig.update_xaxes(title_text='Price ($)')\n",
    "fig.update_yaxes(title_text='Count')\n",
    "\n",
    "plotly.offline.iplot(fig, show_link=False, image_width=600, image_height=400)"
   ]
  },
  {
   "cell_type": "markdown",
   "metadata": {},
   "source": [
    "<h1> VARIABLES vs. PRICE </h1>"
   ]
  },
  {
   "cell_type": "code",
   "execution_count": null,
   "metadata": {},
   "outputs": [],
   "source": [
    "# wine alcohol content vs. price\n",
    "dataAlcPrice = [Scatter(x=data['wine_alcohol'], y=data['wine_price'], mode = 'markers', text=data['wine_variety'])]\n",
    "layout = Layout(title=\"Alcohol Content vs Price\")\n",
    "\n",
    "fig = Figure(data=dataAlcPrice, layout=layout)\n",
    "fig.update_xaxes(title_text='Alcohol Content (%)')\n",
    "fig.update_yaxes(title_text='Price ($)')\n",
    "\n",
    "plotly.offline.iplot(fig, show_link=False)"
   ]
  },
  {
   "cell_type": "code",
   "execution_count": null,
   "metadata": {},
   "outputs": [],
   "source": [
    "# origin vs. price\n",
    "dataOrgPrice = [Scatter(x=data['wine_origin'], y=data['wine_price'], mode = 'markers', text=data['wine_variety'])]\n",
    "layout = Layout(title=\"Wine Origin by Country vs Price\")\n",
    "\n",
    "fig = Figure(data=dataOrgPrice, layout=layout)\n",
    "fig.update_xaxes(title_text='Country')\n",
    "fig.update_yaxes(title_text='Price ($)')\n",
    "\n",
    "plotly.offline.iplot(fig, show_link=False)"
   ]
  },
  {
   "cell_type": "code",
   "execution_count": null,
   "metadata": {},
   "outputs": [],
   "source": [
    "# category vs. price\n",
    "dataCatPrice = [Scatter(x=data['wine_category'], y=data['wine_price'], mode = 'markers', text=data['wine_name'])]\n",
    "layout = Layout(title=\"Wine Category vs Price\")\n",
    "\n",
    "fig = Figure(data=dataCatPrice, layout=layout)\n",
    "fig.update_xaxes(title_text='Category')\n",
    "fig.update_yaxes(title_text='Price ($)')\n",
    "\n",
    "plotly.offline.iplot(fig, show_link=False)"
   ]
  },
  {
   "cell_type": "code",
   "execution_count": null,
   "metadata": {},
   "outputs": [],
   "source": [
    "# variety vs. price\n",
    "dataVarPrice = [Scatter(x=data['wine_variety'], y=data['wine_price'], mode = 'markers', text=data['wine_name'])]\n",
    "layout = Layout(title=\"Wine Variety vs Price\")\n",
    "\n",
    "fig = Figure(data=dataVarPrice, layout=layout)\n",
    "fig.update_xaxes(title_text='Variety')\n",
    "fig.update_yaxes(title_text='Price ($)')\n",
    "\n",
    "plotly.offline.iplot(fig, show_link=False)\n",
    "\n",
    "\n",
    "dataVarPrice = [Scatter(x=Top10['wine_variety'], y=Top10['wine_price'], mode = 'markers', text=data['wine_name'])]\n",
    "layout = Layout(title=\"Wine Top 10 Variety vs Price\")\n",
    "\n",
    "fig = Figure(data=dataVarPrice, layout=layout)\n",
    "fig.update_xaxes(title_text='Variety')\n",
    "fig.update_yaxes(title_text='Price ($)')\n",
    "\n",
    "plotly.offline.iplot(fig, show_link=False)"
   ]
  },
  {
   "cell_type": "code",
   "execution_count": null,
   "metadata": {},
   "outputs": [],
   "source": [
    "# points vs. price\n",
    "dataPointPrice = [Scatter(x=data['wine_point'], y=data['wine_price'], mode = 'markers', text=data['wine_name'])]\n",
    "layout = Layout(title=\"Wine Point vs Price\")\n",
    "\n",
    "fig = Figure(data=dataPointPrice, layout=layout)\n",
    "fig.update_xaxes(title_text='Point')\n",
    "fig.update_yaxes(title_text='Price ($)')\n",
    "\n",
    "plotly.offline.iplot(fig, show_link=False)"
   ]
  },
  {
   "cell_type": "markdown",
   "metadata": {},
   "source": [
    "<h1> WHAT EACH COUNTRY PRODUCE? </h1>"
   ]
  },
  {
   "cell_type": "code",
   "execution_count": null,
   "metadata": {
    "scrolled": true
   },
   "outputs": [],
   "source": [
    "data['wine_origin'].unique()"
   ]
  },
  {
   "cell_type": "code",
   "execution_count": null,
   "metadata": {},
   "outputs": [],
   "source": [
    "#Italy\n",
    "OriItaly = data.loc[data['wine_origin'] =='Italy']\n",
    "OriItaly"
   ]
  },
  {
   "cell_type": "code",
   "execution_count": null,
   "metadata": {},
   "outputs": [],
   "source": [
    "# Italy variety\n",
    "count_OriItaly = pd.value_counts(OriItaly['wine_variety'].values, sort=True)\n",
    "\n",
    "# Only top 10 of Italy\n",
    "top_OriItaly = count_OriItaly[:10]\n",
    "print(top_OriItaly)\n",
    "\n"
   ]
  },
  {
   "cell_type": "code",
   "execution_count": null,
   "metadata": {},
   "outputs": [],
   "source": [
    "#dataOriItaly = [Histogram(x=top_OriItaly['wine_variety'])]\n",
    "#layout = Layout(title=\"Different Varieties of Wine Produced From Italy\")\n",
    "\n",
    "top_OriItaly.plot.bar()\n",
    "\n",
    "#fig = Figure(data=dataOriItaly, layout=layout)\n",
    "#fig.update_xaxes(title_text='Variety')\n",
    "#fig.update_yaxes(title_text='Count')\n",
    "\n",
    "#plotly.offline.iplot(fig, show_link=False)"
   ]
  },
  {
   "cell_type": "code",
   "execution_count": null,
   "metadata": {},
   "outputs": [],
   "source": [
    "#France\n",
    "OriFrance = data.loc[data['wine_origin'] =='France']\n",
    "OriFrance\n"
   ]
  },
  {
   "cell_type": "code",
   "execution_count": null,
   "metadata": {},
   "outputs": [],
   "source": [
    "# France variety\n",
    "count_OriFrance = pd.value_counts(OriFrance['wine_variety'].values, sort=True)\n",
    "\n",
    "# Only top 10 of France\n",
    "top_OriFrance = count_OriFrance[:10]\n",
    "print(top_OriFrance)\n",
    "\n",
    "top_OriFrance.plot.bar()\n",
    "\n",
    "#dataOriFrance = [Histogram(x=OriFrance['wine_variety'])]\n",
    "#layout = Layout(title=\"Different Varieties of Wine Produced From France\")\n",
    "\n",
    "#fig = Figure(data=dataOriFrance, layout=layout)\n",
    "#fig.update_xaxes(title_text='Variety')\n",
    "#fig.update_yaxes(title_text='Count')\n",
    "\n",
    "#plotly.offline.iplot(fig, show_link=False)"
   ]
  },
  {
   "cell_type": "code",
   "execution_count": null,
   "metadata": {},
   "outputs": [],
   "source": [
    "#US\n",
    "OriUS = data.loc[data['wine_origin'] =='US']\n",
    "OriUS\n",
    "#dataOriUS = [Histogram(x=OriUS['wine_variety'])]\n",
    "#layout = Layout(title=\"Different Varieties of Wine Produced From US\")\n",
    "\n",
    "#fig = Figure(data=dataOriUS, layout=layout)\n",
    "#fig.update_xaxes(title_text='Variety')\n",
    "#fig.update_yaxes(title_text='Count')\n",
    "\n",
    "#plotly.offline.iplot(fig, show_link=False)\n",
    "\n",
    "# US variety\n",
    "count_OriUS = pd.value_counts(OriUS['wine_variety'].values, sort=True)\n",
    "\n",
    "# Only top 10 of Italy\n",
    "top_OriUS = count_OriUS[:10]\n",
    "print(top_OriUS)\n",
    "\n",
    "top_OriUS.plot.bar()"
   ]
  },
  {
   "cell_type": "code",
   "execution_count": null,
   "metadata": {},
   "outputs": [],
   "source": [
    "#Australia\n",
    "OriAustralia = data.loc[data['wine_origin'] =='Australia']\n",
    "OriAustralia\n",
    "#dataOriAustralia = [Histogram(x=OriAustralia['wine_variety'])]\n",
    "#layout = Layout(title=\"Different Varieties of Wine Produced From Australia\")\n",
    "\n",
    "#fig = Figure(data=dataOriAustralia, layout=layout)\n",
    "#fig.update_xaxes(title_text='Variety')\n",
    "#fig.update_yaxes(title_text='Count')\n",
    "#plotly.offline.iplot(fig, show_link=False)\n",
    "\n",
    "# Australia variety\n",
    "count_OriAustralia = pd.value_counts(OriAustralia['wine_variety'].values, sort=True)\n",
    "\n",
    "# Only top 10 of Australia\n",
    "top_OriAustralia = count_OriAustralia[:10]\n",
    "print(top_OriAustralia)\n",
    "\n",
    "top_OriAustralia.plot.bar()"
   ]
  },
  {
   "cell_type": "code",
   "execution_count": null,
   "metadata": {
    "scrolled": true
   },
   "outputs": [],
   "source": [
    "#Argentina\n",
    "OriArgentina = data.loc[data['wine_origin'] =='Argentina']\n",
    "OriArgentina\n",
    "#dataOriArgentina = [Histogram(x=OriArgentina['wine_variety'])]\n",
    "#layout = Layout(title=\"Different Varieties of Wine Produced From Argentina\")\n",
    "#fig = Figure(data=dataOriArgentina, layout=layout)\n",
    "#fig.update_xaxes(title_text='Variety')\n",
    "#fig.update_yaxes(title_text='Count')\n",
    "#plotly.offline.iplot(fig, show_link=False)\n",
    "\n",
    "# Argentina variety\n",
    "count_OriArgentina = pd.value_counts(OriArgentina['wine_variety'].values, sort=True)\n",
    "\n",
    "# Only top 10 of Argentina\n",
    "top_OriArgentina = count_OriArgentina[:10]\n",
    "print(top_OriArgentina)\n",
    "\n",
    "top_OriArgentina.plot.bar()"
   ]
  },
  {
   "cell_type": "code",
   "execution_count": null,
   "metadata": {},
   "outputs": [],
   "source": [
    "#Spain\n",
    "OriSpain = data.loc[data['wine_origin'] =='Spain']\n",
    "OriSpain\n",
    "#dataOriSpain = [Histogram(x=OriSpain['wine_variety'])]\n",
    "#layout = Layout(title=\"Different Varieties of Wine Produced From Spain\")\n",
    "\n",
    "#fig = Figure(data=dataOriSpain, layout=layout)\n",
    "#fig.update_xaxes(title_text='Variety')\n",
    "#fig.update_yaxes(title_text='Count')\n",
    "\n",
    "#plotly.offline.iplot(fig, show_link=False)\n",
    "\n",
    "# Spain variety\n",
    "count_OriSpain = pd.value_counts(OriSpain['wine_variety'].values, sort=True)\n",
    "\n",
    "# Only top 10 of Spain\n",
    "top_OriSpain = count_OriSpain[:10]\n",
    "print(top_OriSpain)\n",
    "\n",
    "top_OriSpain.plot.bar()"
   ]
  },
  {
   "cell_type": "code",
   "execution_count": null,
   "metadata": {},
   "outputs": [],
   "source": [
    "#Chile\n",
    "OriChile = data.loc[data['wine_origin'] =='Chile']\n",
    "OriChile\n",
    "\n",
    "count_OriChile = pd.value_counts(OriChile['wine_variety'].values, sort=True)\n",
    "\n",
    "top_OriChile = count_OriChile[:10]\n",
    "print(top_OriChile)\n",
    "\n",
    "top_OriChile.plot.bar()"
   ]
  },
  {
   "cell_type": "code",
   "execution_count": null,
   "metadata": {},
   "outputs": [],
   "source": [
    "#Austria\n",
    "OriAustria = data.loc[data['wine_origin'] =='Austria']\n",
    "OriAustria\n",
    "#dataOriAustria = [Histogram(x=OriAustria['wine_variety'])]\n",
    "#layout = Layout(title=\"Different Varieties of Wine Produced From Austria\")\n",
    "\n",
    "#fig = Figure(data=dataOriAustria, layout=layout)\n",
    "#fig.update_xaxes(title_text='Variety')\n",
    "#fig.update_yaxes(title_text='Count')\n",
    "\n",
    "#plotly.offline.iplot(fig, show_link=False)\n",
    "\n",
    "# Austria variety\n",
    "count_OriAustria = pd.value_counts(OriAustria['wine_variety'].values, sort=True)\n",
    "\n",
    "# Only top 10 of Austria\n",
    "top_OriAustria = count_OriAustria[:10]\n",
    "print(top_OriAustria)\n",
    "\n",
    "top_OriAustria.plot.bar()"
   ]
  },
  {
   "cell_type": "code",
   "execution_count": null,
   "metadata": {},
   "outputs": [],
   "source": [
    "#Portugal\n",
    "OriPortugal = data.loc[data['wine_origin'] =='Portugal']\n",
    "OriPortugal\n",
    "#dataOriPortugal = [Histogram(x=OriPortugal['wine_variety'])]\n",
    "#layout = Layout(title=\"Different Varieties of Wine Produced From Portugal\")\n",
    "\n",
    "#fig = Figure(data=dataOriPortugal, layout=layout)\n",
    "#fig.update_xaxes(title_text='Variety')\n",
    "#fig.update_yaxes(title_text='Count')\n",
    "\n",
    "#plotly.offline.iplot(fig, show_link=False)\n",
    "\n",
    "# Portugal variety\n",
    "count_OriPortugal = pd.value_counts(OriPortugal['wine_variety'].values, sort=True)\n",
    "\n",
    "# Only top 10 of Portugal\n",
    "top_OriPortugal = count_OriPortugal[:10]\n",
    "print(top_OriPortugal)\n",
    "\n",
    "top_OriPortugal.plot.bar()"
   ]
  },
  {
   "cell_type": "code",
   "execution_count": null,
   "metadata": {},
   "outputs": [],
   "source": [
    "data['wine_category'].unique()\n"
   ]
  },
  {
   "cell_type": "code",
   "execution_count": null,
   "metadata": {},
   "outputs": [],
   "source": [
    "#'Sparkling', 'Dessert', 'Rose', 'Port/Sherry']\n",
    "\n",
    "Red_data = data.loc[data.wine_category=='Red']['wine_origin']\n",
    "White_data = data.loc[data.wine_category=='White']['wine_origin']\n",
    "Sparkling_data = data.loc[data.wine_category=='Sparkling']['wine_origin']\n",
    "Dessert_data = data.loc[data.wine_category=='Dessert']['wine_origin']\n",
    "Rose_data = data.loc[data.wine_category=='Rose']['wine_origin']\n",
    "Port_data = data.loc[data.wine_category=='Port/Sherry']['wine_origin']\n",
    "Fortified_data = data.loc[data.wine_category == 'Fortified']['wine_origin']\n",
    "\n",
    "#getbins = lambda t:{'start':t.min(),'end':t.max(), 'size':0.5}\n",
    "\n",
    "trace0 = Histogram(x=Red_data,name='Red')\n",
    "\n",
    "trace1 = Histogram(x=White_data,name='White')\n",
    "\n",
    "trace2 = Histogram(x=Sparkling_data, name = 'Sparkling')\n",
    "\n",
    "trace3 = Histogram(x=Dessert_data, name = 'Dessert')\n",
    "\n",
    "trace4 = Histogram(x=Rose_data, name = 'Rose')\n",
    "\n",
    "trace5 = Histogram(x=Port_data, name = 'Port/Sherry')\n",
    "\n",
    "trace6 = Histogram(x=Fortified_data, name = 'Fortified')\n",
    "\n",
    "dataStacked = [trace0, trace1, trace2, trace3, trace4, trace5, trace6]   \n",
    "# this is how we use different bars to graph together. -> for plotly, need to manually split the dataset\n",
    "\n",
    "layout = Layout(title=\"Wine Production by Country\",\n",
    "               bargroupgap=0.1)\n",
    "fig = Figure(data=dataStacked, layout=layout)\n",
    "\n",
    "plotly.offline.iplot(fig, show_link=False, image_width=600, image_height=400)\n"
   ]
  },
  {
   "cell_type": "markdown",
   "metadata": {},
   "source": [
    "<h1> WordCloud </h1>"
   ]
  },
  {
   "cell_type": "code",
   "execution_count": null,
   "metadata": {},
   "outputs": [],
   "source": [
    "#stopwords\n",
    "stopwords = set(STOPWORDS)\n",
    "stopwords.update([\"drink\", \"now\", \"wine\", \"flavor\", \"flavors\", \"aroma\", \"aromas\", \"finish\", \"note\", \"show\", \"notes\"])"
   ]
  },
  {
   "cell_type": "code",
   "execution_count": null,
   "metadata": {},
   "outputs": [],
   "source": [
    "#WordCloud for all wines\n",
    "wc = WordCloud(stopwords=stopwords,background_color=\"white\", max_words=2000, width=1000, height=600,colormap = plt.cm.inferno, scale = 2.0)\n",
    "wc.generate(' '.join(data['wine_description']))\n",
    "plt.figure(figsize=(12, 6))\n",
    "plt.imshow(wc, interpolation='bilinear')\n",
    "plt.axis(\"off\")\n",
    "plt.show()"
   ]
  },
  {
   "cell_type": "markdown",
   "metadata": {},
   "source": [
    "<h3> WordCloud for each category </h3>"
   ]
  },
  {
   "cell_type": "code",
   "execution_count": null,
   "metadata": {},
   "outputs": [],
   "source": [
    "RedWC = data[data['wine_category'] == 'Red']\n",
    "RedWC"
   ]
  },
  {
   "cell_type": "code",
   "execution_count": null,
   "metadata": {},
   "outputs": [],
   "source": [
    "#WordCloud for Red\n",
    "wc = WordCloud(stopwords=stopwords,background_color=\"white\", max_words=2000, width=1000, height=600,colormap = plt.cm.inferno, scale = 2.0)\n",
    "wc.generate(' '.join(RedWC['wine_description']))\n",
    "plt.figure(figsize=(12, 6))\n",
    "plt.imshow(wc, interpolation='bilinear')\n",
    "plt.axis(\"off\")\n",
    "plt.show()"
   ]
  },
  {
   "cell_type": "code",
   "execution_count": null,
   "metadata": {},
   "outputs": [],
   "source": [
    "WhiteWC = data[data['wine_category'] == 'White']\n",
    "WhiteWC"
   ]
  },
  {
   "cell_type": "code",
   "execution_count": null,
   "metadata": {},
   "outputs": [],
   "source": [
    "#WordCloud for White\n",
    "wc = WordCloud(stopwords=stopwords,background_color=\"white\", max_words=2000, width=1000, height=600,colormap = plt.cm.inferno, scale = 2.0)\n",
    "wc.generate(' '.join(RedWC['wine_description']))\n",
    "plt.figure(figsize=(12, 6))\n",
    "plt.imshow(wc, interpolation='bilinear')\n",
    "plt.axis(\"off\")\n",
    "plt.show()"
   ]
  },
  {
   "cell_type": "code",
   "execution_count": null,
   "metadata": {
    "scrolled": true
   },
   "outputs": [],
   "source": [
    "SparklingWC = data[data['wine_category'] == 'Sparkling']\n",
    "SparklingWC"
   ]
  },
  {
   "cell_type": "code",
   "execution_count": null,
   "metadata": {},
   "outputs": [],
   "source": [
    "#WordCloud for Sparkling\n",
    "wc = WordCloud(stopwords=stopwords,background_color=\"white\", max_words=2000, width=1000, height=600,colormap = plt.cm.inferno, scale = 2.0)\n",
    "wc.generate(' '.join(SparklingWC['wine_description']))\n",
    "plt.figure(figsize=(12, 6))\n",
    "plt.imshow(wc, interpolation='bilinear')\n",
    "plt.axis(\"off\")\n",
    "plt.show()"
   ]
  },
  {
   "cell_type": "code",
   "execution_count": null,
   "metadata": {
    "scrolled": true
   },
   "outputs": [],
   "source": [
    "DessertWC = data[data['wine_category'] == 'Dessert']\n",
    "DessertWC"
   ]
  },
  {
   "cell_type": "code",
   "execution_count": null,
   "metadata": {},
   "outputs": [],
   "source": [
    "#WordCloud for dessert\n",
    "wc = WordCloud(stopwords=stopwords,background_color=\"white\", max_words=2000, width=1000, height=600,colormap = plt.cm.inferno, scale = 2.0)\n",
    "wc.generate(' '.join(DessertWC['wine_description']))\n",
    "plt.figure(figsize=(12, 6))\n",
    "plt.imshow(wc, interpolation='bilinear')\n",
    "plt.axis(\"off\")\n",
    "plt.show()"
   ]
  },
  {
   "cell_type": "code",
   "execution_count": null,
   "metadata": {},
   "outputs": [],
   "source": [
    "RoseWC = data[data['wine_category'] == 'Rose']\n",
    "RoseWC"
   ]
  },
  {
   "cell_type": "code",
   "execution_count": null,
   "metadata": {},
   "outputs": [],
   "source": [
    "#WordCloud for Rose\n",
    "wc = WordCloud(stopwords=stopwords,background_color=\"white\", max_words=2000, width=1000, height=600,colormap = plt.cm.inferno, scale = 2.0)\n",
    "wc.generate(' '.join(RoseWC['wine_description']))\n",
    "plt.figure(figsize=(12, 6))\n",
    "plt.imshow(wc, interpolation='bilinear')\n",
    "plt.axis(\"off\")\n",
    "plt.show()"
   ]
  },
  {
   "cell_type": "code",
   "execution_count": null,
   "metadata": {},
   "outputs": [],
   "source": [
    "PortWC = data[data['wine_category'] == 'Port/Sherry']\n",
    "PortWC"
   ]
  },
  {
   "cell_type": "code",
   "execution_count": null,
   "metadata": {},
   "outputs": [],
   "source": [
    "#WordCloud for Port/Sherry\n",
    "wc = WordCloud(stopwords=stopwords,background_color=\"white\", max_words=2000, width=1000, height=600,colormap = plt.cm.inferno, scale = 2.0)\n",
    "wc.generate(' '.join(PortWC['wine_description']))\n",
    "plt.figure(figsize=(12, 6))\n",
    "plt.imshow(wc, interpolation='bilinear')\n",
    "plt.axis(\"off\")\n",
    "plt.show()"
   ]
  },
  {
   "cell_type": "code",
   "execution_count": null,
   "metadata": {},
   "outputs": [],
   "source": [
    "data.loc[data['wine_category'] == 'Port/Sherry']"
   ]
  },
  {
   "cell_type": "code",
   "execution_count": null,
   "metadata": {},
   "outputs": [],
   "source": []
  }
 ],
 "metadata": {
  "kernelspec": {
   "display_name": "Python 3",
   "language": "python",
   "name": "python3"
  },
  "language_info": {
   "codemirror_mode": {
    "name": "ipython",
    "version": 3
   },
   "file_extension": ".py",
   "mimetype": "text/x-python",
   "name": "python",
   "nbconvert_exporter": "python",
   "pygments_lexer": "ipython3",
   "version": "3.7.3"
  }
 },
 "nbformat": 4,
 "nbformat_minor": 2
}
